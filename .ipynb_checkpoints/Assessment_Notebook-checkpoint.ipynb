{
 "cells": [
  {
   "cell_type": "markdown",
   "metadata": {},
   "source": [
    "## Gathering Data"
   ]
  },
  {
   "cell_type": "code",
   "execution_count": 2,
   "metadata": {},
   "outputs": [],
   "source": [
    "import zipfile\n",
    "with zipfile.ZipFile('./developer_survey_2016.zip', 'r') as zip_ref:\n",
    "    zip_ref.extractall('.')\n",
    "with zipfile.ZipFile('./developer_survey_2017.zip', 'r') as zip_ref:\n",
    "    zip_ref.extractall('.')\n",
    "with zipfile.ZipFile('./developer_survey_2018.zip', 'r') as zip_ref:\n",
    "    zip_ref.extractall('.')\n",
    "with zipfile.ZipFile('./developer_survey_2019.zip', 'r') as zip_ref:\n",
    "    zip_ref.extractall('.')\n",
    "with zipfile.ZipFile('./developer_survey_2020.zip', 'r') as zip_ref:\n",
    "    zip_ref.extractall('.')"
   ]
  },
  {
   "cell_type": "markdown",
   "metadata": {},
   "source": [
    "## Questions to Answer / Motivation\n",
    "Checking if stereotypes about developers are actually true,\n",
    "1. What is the language most popular among developers and how has this changed across the years? Is python the most used language?\n",
    "2. What Operating System do programmers prefer to use? Is it windows?\n",
    "3. What educational background do programming professionals have and does this have an impact on salary in 2020? Can people who don't have a master's or a Doctoral degree become programmers as well?"
   ]
  },
  {
   "cell_type": "markdown",
   "metadata": {},
   "source": [
    "## Assessing Data"
   ]
  },
  {
   "cell_type": "code",
   "execution_count": 3,
   "metadata": {},
   "outputs": [
    {
     "name": "stderr",
     "output_type": "stream",
     "text": [
      "/Users/abishek/.pyenv/versions/3.6.10/envs/kaggle/lib/python3.6/site-packages/IPython/core/interactiveshell.py:3063: DtypeWarning: Columns (8,12,13,14,15,16,50,51,52,53,55,56,57,58,59,60,61,62,63,64,65,66,67,68,69,70,71,72,73,74,75,76,77,78,79,80,81,82,83,84,85,93,94,95,96,97,98,99,100,101,102,103,104,105,106,107,108,109,110,111,112,113,114,115,116,117,118,119,120,121,122,123,124,125,126,127,128) have mixed types.Specify dtype option on import or set low_memory=False.\n",
      "  interactivity=interactivity, compiler=compiler, result=result)\n"
     ]
    }
   ],
   "source": [
    "import numpy as np\n",
    "import pandas as pd\n",
    "\n",
    "df_2016 = pd.read_csv('./developer_survey_2016/survey_results_public.csv')\n",
    "df_2017 = pd.read_csv('./developer_survey_2017/survey_results_public.csv')\n",
    "df_2018 = pd.read_csv('./developer_survey_2018/survey_results_public.csv')\n",
    "df_2019 = pd.read_csv('./developer_survey_2019/survey_results_public.csv')\n",
    "df_2020 = pd.read_csv('./developer_survey_2020/survey_results_public.csv')"
   ]
  },
  {
   "cell_type": "code",
   "execution_count": 4,
   "metadata": {},
   "outputs": [
    {
     "name": "stdout",
     "output_type": "stream",
     "text": [
      "(51392, 154) (98855, 129) (88883, 85) (64461, 61)\n"
     ]
    }
   ],
   "source": [
    "print(df_2017.shape,df_2018.shape,df_2019.shape,df_2020.shape)"
   ]
  },
  {
   "cell_type": "markdown",
   "metadata": {},
   "source": [
    "The Dataframes all seem to have different number of rows and columns"
   ]
  },
  {
   "cell_type": "code",
   "execution_count": 5,
   "metadata": {},
   "outputs": [
    {
     "name": "stdout",
     "output_type": "stream",
     "text": [
      "0.12502230947706586\n",
      "0.2873404420921544\n",
      "0.20758686965757928\n",
      "0.014783479405510615\n",
      "0.10988039279564388\n"
     ]
    }
   ],
   "source": [
    "print(df_2016['tech_do'].isnull().mean())\n",
    "print(df_2017['HaveWorkedLanguage'].isnull().mean())\n",
    "print(df_2018['LanguageWorkedWith'].isnull().mean())\n",
    "print(df_2019['LanguageWorkedWith'].isnull().mean())\n",
    "print(df_2020['LanguageWorkedWith'].isnull().mean())"
   ]
  },
  {
   "cell_type": "markdown",
   "metadata": {},
   "source": [
    "The column names to access the Programming language are different. These have some missing values as well"
   ]
  },
  {
   "cell_type": "code",
   "execution_count": 6,
   "metadata": {},
   "outputs": [
    {
     "name": "stdout",
     "output_type": "stream",
     "text": [
      "0.17096198465107978\n",
      "0.2293864751403571\n",
      "0.011610769213460392\n",
      "0.12772063728455965\n"
     ]
    }
   ],
   "source": [
    "print(df_2016['desktop_os'].isnull().mean())\n",
    "print(df_2018['OperatingSystem'].isnull().mean())\n",
    "print(df_2019['OpSys'].isnull().mean())\n",
    "print(df_2020['OpSys'].isnull().mean())"
   ]
  },
  {
   "cell_type": "markdown",
   "metadata": {},
   "source": [
    "The column names to access the Operating System are different. These have some missing values as well"
   ]
  },
  {
   "cell_type": "code",
   "execution_count": 7,
   "metadata": {},
   "outputs": [
    {
     "name": "stdout",
     "output_type": "stream",
     "text": [
      "0.10905819022354601\n",
      "0.4608212717767332\n"
     ]
    }
   ],
   "source": [
    "print(df_2020['EdLevel'].isnull().mean())\n",
    "print(df_2020['ConvertedComp'].isnull().mean())"
   ]
  },
  {
   "cell_type": "markdown",
   "metadata": {},
   "source": [
    "## Cleaning Data"
   ]
  },
  {
   "cell_type": "markdown",
   "metadata": {},
   "source": [
    "To answer the three questions raised, it doesn't make sense to impute data. Thus, we just remove rows that have missing data"
   ]
  },
  {
   "cell_type": "code",
   "execution_count": 8,
   "metadata": {},
   "outputs": [],
   "source": [
    "df_2016 = df_2016.rename(columns={\"tech_do\": \"Language\", \"desktop_os\": \"OpSys\"})\n",
    "df_2017 = df_2017.rename(columns={\"HaveWorkedLanguage\": \"Language\"})\n",
    "df_2018 = df_2018.rename(columns={\"LanguageWorkedWith\": \"Language\", \"OperatingSystem\": \"OpSys\"})\n",
    "df_2019 = df_2019.rename(columns={\"LanguageWorkedWith\": \"Language\"})\n",
    "df_2020 = df_2020.rename(columns={\"LanguageWorkedWith\": \"Language\"})"
   ]
  },
  {
   "cell_type": "code",
   "execution_count": 9,
   "metadata": {},
   "outputs": [],
   "source": [
    "df_2016_clean_q1 = df_2016.dropna(subset=['Language'], how='any')\n",
    "df_2017_clean_q1 = df_2017.dropna(subset=['Language'], how='any')\n",
    "df_2018_clean_q1 = df_2018.dropna(subset=['Language'], how='any')\n",
    "df_2019_clean_q1 = df_2019.dropna(subset=['Language'], how='any')\n",
    "df_2020_clean_q1 = df_2020.dropna(subset=['Language'], how='any')"
   ]
  },
  {
   "cell_type": "code",
   "execution_count": 10,
   "metadata": {},
   "outputs": [],
   "source": [
    "df_2016_clean_q2 = df_2016.dropna(subset=[\"OpSys\"],how=\"any\")\n",
    "df_2018_clean_q2 = df_2018.dropna(subset=[\"OpSys\"],how=\"any\")\n",
    "df_2019_clean_q2 = df_2019.dropna(subset=[\"OpSys\"],how=\"any\")\n",
    "df_2020_clean_q2 = df_2020.dropna(subset=[\"OpSys\"],how=\"any\")"
   ]
  },
  {
   "cell_type": "code",
   "execution_count": 11,
   "metadata": {},
   "outputs": [],
   "source": [
    "df_2020_clean_q3 = df_2020.dropna(subset=['EdLevel','ConvertedComp'],how=\"any\")"
   ]
  },
  {
   "cell_type": "markdown",
   "metadata": {},
   "source": [
    "## Inference and Visualisation"
   ]
  },
  {
   "cell_type": "markdown",
   "metadata": {},
   "source": [
    "## Question 1:\n",
    "What are the top 5 programming languages used by developers over the past five years?"
   ]
  },
  {
   "cell_type": "markdown",
   "metadata": {},
   "source": [
    "### Code"
   ]
  },
  {
   "cell_type": "code",
   "execution_count": 12,
   "metadata": {},
   "outputs": [],
   "source": [
    "possible_vals = {'C'}\n",
    "for item in df_2016_clean_q1['Language']:\n",
    "    x = item.split(\"; \")\n",
    "    for entry in x:\n",
    "        possible_vals.add(entry)\n"
   ]
  },
  {
   "cell_type": "code",
   "execution_count": 13,
   "metadata": {},
   "outputs": [
    {
     "name": "stdout",
     "output_type": "stream",
     "text": [
      "['Hadoop', 'Redis', 'LAMP', 'Cordova', 'Cloud (AWS, GAE, Azure, etc.)', 'Haskell', 'WordPress', 'Cassandra', 'Node.js', 'JavaScript', 'F#', 'MongoDB', 'Matlab', 'Objective-C', 'Java', 'R', 'SQL Server', 'iOS', 'Visual Basic', 'C#', 'Clojure', 'ReactJS', 'Go', 'Windows Phone', 'AngularJS', 'C', 'Rust', 'C++', 'Spark', 'Dart', 'SharePoint', 'CoffeeScript', 'Arduino / Raspberry Pi', 'PHP', 'Perl', 'Ruby', 'Scala', 'Salesforce', 'Swift', 'SQL', 'Python', 'Android']\n"
     ]
    }
   ],
   "source": [
    "possible_vals = list(possible_vals)\n",
    "print(possible_vals)"
   ]
  },
  {
   "cell_type": "code",
   "execution_count": 14,
   "metadata": {},
   "outputs": [],
   "source": [
    "import matplotlib.pyplot as plt\n",
    "from collections import defaultdict\n",
    "%matplotlib inline"
   ]
  },
  {
   "cell_type": "code",
   "execution_count": 15,
   "metadata": {},
   "outputs": [
    {
     "name": "stdout",
     "output_type": "stream",
     "text": [
      "            count\n",
      "method           \n",
      "Java        35603\n",
      "C           29499\n",
      "JavaScript  27385\n",
      "SQL         24248\n",
      "C#          15283\n"
     ]
    },
    {
     "data": {
      "image/png": "[encoded data removed]",
      "text/plain": [
       "<Figure size 432x288 with 1 Axes>"
      ]
     },
     "metadata": {
      "needs_background": "light"
     },
     "output_type": "display_data"
    }
   ],
   "source": [
    "def total_count(df, col1, col2, look_for):\n",
    "    '''\n",
    "    INPUT:\n",
    "    df - the pandas dataframe you want to search\n",
    "    col1 - the column name you want to look through\n",
    "    col2 - the column you want to count values from\n",
    "    look_for - a list of strings you want to search for in each row of df[col]\n",
    "\n",
    "    OUTPUT:\n",
    "    new_df - a dataframe of each look_for with the count of how often it shows up\n",
    "    '''\n",
    "    new_df = defaultdict(int)\n",
    "    #loop through list of ed types\n",
    "    for val in look_for:\n",
    "        #loop through rows\n",
    "        for idx in range(df.shape[0]):\n",
    "            #if the ed type is in the row add 1\n",
    "            if val in df[col1][idx]:\n",
    "                new_df[val] += int(df[col2][idx])\n",
    "    new_df = pd.DataFrame(pd.Series(new_df)).reset_index()\n",
    "    new_df.columns = [col1, col2]\n",
    "    new_df.sort_values('count', ascending=False, inplace=True)\n",
    "    return new_df\n",
    "\n",
    "def clean_and_plot(df, title='Languages Used', plot=True):\n",
    "    '''\n",
    "    INPUT \n",
    "        df - a dataframe holding the Languages column\n",
    "        title - string the title of your plot\n",
    "        axis - axis object\n",
    "        plot - bool providing whether or not you want a plot back\n",
    "        \n",
    "    OUTPUT\n",
    "        study_df - a dataframe with the count of how many individuals\n",
    "        Displays a plot of pretty things related to the Language column.\n",
    "    '''\n",
    "    lang = df['Language'].value_counts().reset_index()\n",
    "    lang.rename(columns={'index': 'method', 'Language': 'count'}, inplace=True)\n",
    "    lang_df = total_count(lang, 'method', 'count', possible_vals)\n",
    "    lang_df.set_index('method', inplace=True)\n",
    "    lang_df = lang_df.iloc[:5,:]\n",
    "    print(lang_df)\n",
    "    if plot:\n",
    "        (lang_df/lang_df.sum()).plot(kind='bar', legend=None);\n",
    "        plt.title(title);\n",
    "        plt.show()\n",
    "    props_lang_df = lang_df/lang_df.sum()\n",
    "    return props_lang_df\n",
    "    \n",
    "props_2016 = clean_and_plot(df_2016_clean_q1)"
   ]
  },
  {
   "cell_type": "code",
   "execution_count": null,
   "metadata": {},
   "outputs": [
    {
     "name": "stdout",
     "output_type": "stream",
     "text": [
      "            count\n",
      "method           \n",
      "Java        28149\n",
      "JavaScript  22875\n",
      "C           21173\n",
      "SQL         18754\n",
      "C#          12476\n"
     ]
    },
    {
     "data": {
      "image/png": "[encoded data removed]",
      "text/plain": [
       "<Figure size 432x288 with 1 Axes>"
      ]
     },
     "metadata": {
      "needs_background": "light"
     },
     "output_type": "display_data"
    }
   ],
   "source": [
    "props_2017 = clean_and_plot(df_2017_clean_q1)\n",
    "props_2018 = clean_and_plot(df_2018_clean_q1)\n",
    "props_2019 = clean_and_plot(df_2019_clean_q1)\n",
    "props_2020 = clean_and_plot(df_2020_clean_q1)"
   ]
  },
  {
   "cell_type": "code",
   "execution_count": null,
   "metadata": {},
   "outputs": [],
   "source": [
    "props_2016['year']=2016\n",
    "props_2017['year']=2017\n",
    "props_2018['year']=2018\n",
    "props_2019['year']=2019\n",
    "props_2020['year']=2020"
   ]
  },
  {
   "cell_type": "code",
   "execution_count": null,
   "metadata": {},
   "outputs": [],
   "source": [
    "import seaborn as sb"
   ]
  },
  {
   "cell_type": "code",
   "execution_count": null,
   "metadata": {},
   "outputs": [],
   "source": [
    "df_plot = props_2016.append(props_2017)\n",
    "df_plot = df_plot.append(props_2018)\n",
    "df_plot = df_plot.append(props_2019)\n",
    "df_plot = df_plot.append(props_2020)"
   ]
  },
  {
   "cell_type": "code",
   "execution_count": null,
   "metadata": {},
   "outputs": [],
   "source": [
    "df_plot['method'] = df_plot.index"
   ]
  },
  {
   "cell_type": "code",
   "execution_count": null,
   "metadata": {},
   "outputs": [],
   "source": [
    "df_plot"
   ]
  },
  {
   "cell_type": "code",
   "execution_count": null,
   "metadata": {},
   "outputs": [],
   "source": [
    "df_plot = df_plot.rename(columns={\"method\": \"Language\"})\n",
    "sb.barplot(y=df_plot['Language'], x=df_plot['count'],hue=df_plot['year'])"
   ]
  },
  {
   "cell_type": "markdown",
   "metadata": {},
   "source": [
    "### Result\n",
    "It is seen that, despite the hype around python, most programmers still use Java and C which are relatively older languages. In the years 2018-2020, the percentage of developers who use python is slowly increasing"
   ]
  },
  {
   "cell_type": "markdown",
   "metadata": {},
   "source": [
    "## Question 2:\n",
    "What OS do programmers prefer to use?"
   ]
  },
  {
   "cell_type": "markdown",
   "metadata": {},
   "source": [
    "### Code"
   ]
  },
  {
   "cell_type": "code",
   "execution_count": null,
   "metadata": {},
   "outputs": [],
   "source": [
    "df_2016_clean_q2['OpSys']"
   ]
  },
  {
   "cell_type": "code",
   "execution_count": null,
   "metadata": {},
   "outputs": [],
   "source": [
    "possible_vals = {'Mint'}\n",
    "for item in df_2016_clean_q2['OpSys']:\n",
    "    x = item.split(\"; \")\n",
    "    for entry in x:\n",
    "        possible_vals.add(entry)\n",
    "for item in df_2018_clean_q2['OpSys']:\n",
    "    x = item.split(\"; \")\n",
    "    for entry in x:\n",
    "        possible_vals.add(entry)\n",
    "for item in df_2019_clean_q2['OpSys']:\n",
    "    x = item.split(\"; \")\n",
    "    for entry in x:\n",
    "        possible_vals.add(entry)\n",
    "for item in df_2020_clean_q2['OpSys']:\n",
    "    x = item.split(\"; \")\n",
    "    for entry in x:\n",
    "        possible_vals.add(entry)"
   ]
  },
  {
   "cell_type": "code",
   "execution_count": null,
   "metadata": {},
   "outputs": [],
   "source": [
    "possible_vals = list(possible_vals)\n",
    "print(possible_vals)"
   ]
  },
  {
   "cell_type": "code",
   "execution_count": null,
   "metadata": {},
   "outputs": [],
   "source": [
    "def plot_graph_q2(df):\n",
    "    '''\n",
    "    INPUT \n",
    "        df - a dataframe holding the Languages column\n",
    "    OUTPUT\n",
    "        Displays a plot of pretty things related to the CousinEducation column.\n",
    "    '''\n",
    "    props = df['OpSys'].value_counts().reset_index()\n",
    "    props.set_index('index', inplace=True)\n",
    "    props = props.iloc[:3,:]\n",
    "    (props/props.sum()).plot(kind='bar', legend=None);\n",
    "    plt.title(\"OS Used\");\n",
    "    plt.show()\n",
    "    props_df = props/props.sum()\n",
    "    return props_df"
   ]
  },
  {
   "cell_type": "code",
   "execution_count": null,
   "metadata": {},
   "outputs": [],
   "source": [
    "props_2018 = plot_graph_q2(df_2018_clean_q2)\n",
    "props_2019 = plot_graph_q2(df_2019_clean_q2)\n",
    "props_2020 = plot_graph_q2(df_2020_clean_q2)\n"
   ]
  },
  {
   "cell_type": "code",
   "execution_count": null,
   "metadata": {},
   "outputs": [],
   "source": [
    "props_2018['year'] = 2018\n",
    "props_2019['year'] = 2019\n",
    "props_2020['year'] = 2020"
   ]
  },
  {
   "cell_type": "code",
   "execution_count": null,
   "metadata": {},
   "outputs": [],
   "source": [
    "df_plot = props_2018.append(props_2019)\n",
    "df_plot = df_plot.append(props_2020)\n"
   ]
  },
  {
   "cell_type": "code",
   "execution_count": null,
   "metadata": {},
   "outputs": [],
   "source": [
    "df_plot['Os'] = df_plot.index"
   ]
  },
  {
   "cell_type": "code",
   "execution_count": null,
   "metadata": {},
   "outputs": [],
   "source": [
    "sb.barplot(y=df_plot['Os'], x=df_plot['OpSys'],hue=df_plot['year'])"
   ]
  },
  {
   "cell_type": "markdown",
   "metadata": {},
   "source": [
    "### Result\n",
    "Surprisingly the stereotype seems to be true, Most developers seem to use Windows OS"
   ]
  },
  {
   "cell_type": "markdown",
   "metadata": {},
   "source": [
    "## Question 3:\n",
    "What Educational background do programming professionals have?"
   ]
  },
  {
   "cell_type": "markdown",
   "metadata": {},
   "source": [
    "### Code"
   ]
  },
  {
   "cell_type": "code",
   "execution_count": null,
   "metadata": {},
   "outputs": [],
   "source": [
    "props = df_2020_clean_q3['EdLevel'].value_counts().reset_index()\n",
    "props.set_index('index', inplace=True)\n",
    "(props/props.sum()).plot(kind='bar', legend=None);\n",
    "plt.title(\"Education\");\n",
    "plt.show()"
   ]
  },
  {
   "cell_type": "code",
   "execution_count": null,
   "metadata": {},
   "outputs": [],
   "source": [
    "possible_vals = {'Primary/elementary school'}\n",
    "for item in df_2020_clean_q3['EdLevel']:\n",
    "    x = item.split(\"; \")\n",
    "    for entry in x:\n",
    "        possible_vals.add(entry)"
   ]
  },
  {
   "cell_type": "code",
   "execution_count": null,
   "metadata": {},
   "outputs": [],
   "source": [
    "possible_vals = list(possible_vals)"
   ]
  },
  {
   "cell_type": "code",
   "execution_count": null,
   "metadata": {},
   "outputs": [],
   "source": [
    "salary = []\n",
    "for item in possible_vals:\n",
    "    salary.append(df_2020_clean_q3[df_2020_clean_q3['EdLevel'] == item]['ConvertedComp'].mean())"
   ]
  },
  {
   "cell_type": "code",
   "execution_count": null,
   "metadata": {},
   "outputs": [],
   "source": [
    "print(salary)"
   ]
  },
  {
   "cell_type": "code",
   "execution_count": null,
   "metadata": {},
   "outputs": [],
   "source": [
    "salary_df = pd.DataFrame({\n",
    "    'edu_level': possible_vals,\n",
    "    'avg_salary': salary\n",
    "})"
   ]
  },
  {
   "cell_type": "code",
   "execution_count": null,
   "metadata": {},
   "outputs": [],
   "source": [
    "salary_df = salary_df.sort_values(by=['avg_salary'])\n",
    "salary_df.set_index('edu_level', inplace=True)\n",
    "salary_df.plot(kind=\"bar\",legend=None)"
   ]
  },
  {
   "cell_type": "markdown",
   "metadata": {},
   "source": [
    "### Result\n",
    "It is seen that 50% of Developers have Bachelor's degree, while 30% of them have competed their Master's or Doctorate. However When looking at the average salary of Developers, one cannot conclude that a higher degree corresponds to a higher salary"
   ]
  },
  {
   "cell_type": "code",
   "execution_count": null,
   "metadata": {},
   "outputs": [],
   "source": []
  }
 ],
 "metadata": {
  "kernelspec": {
   "display_name": "Python 3",
   "language": "python",
   "name": "python3"
  },
  "language_info": {
   "codemirror_mode": {
    "name": "ipython",
    "version": 3
   },
   "file_extension": ".py",
   "mimetype": "text/x-python",
   "name": "python",
   "nbconvert_exporter": "python",
   "pygments_lexer": "ipython3",
   "version": "3.6.10"
  }
 },
 "nbformat": 4,
 "nbformat_minor": 4
}
